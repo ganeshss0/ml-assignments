{
 "cells": [
  {
   "attachments": {},
   "cell_type": "markdown",
   "metadata": {},
   "source": [
    "# Machine Learning Assignment 1"
   ]
  },
  {
   "cell_type": "markdown",
   "metadata": {},
   "source": [
    "### Answer 1"
   ]
  },
  {
   "attachments": {},
   "cell_type": "markdown",
   "metadata": {},
   "source": [
    "__Machine Learning is the science of programming computers so they can learn from data__, for example a program that can recognize the handwritten character is a Machine Learning Application. In Machine Learning computer is feed with data and the computer turn this data into some mathematical equation and functions."
   ]
  },
  {
   "cell_type": "markdown",
   "metadata": {},
   "source": [
    "### Answer 2"
   ]
  },
  {
   "attachments": {},
   "cell_type": "markdown",
   "metadata": {},
   "source": [
    "Distinct types of issue where Machine Learning shines:\n",
    "1. __Text Recognition__: A Machine Learning algorithm capable of recognizing hand written text and distorted text.\n",
    "2. __Speech Recognition__: A Machine Learning algorithm capable to recognizing speeches.\n",
    "3. __Spam Email Filter__: A Machine Learning algorithm capable of recognizing whether a mail is spam or not.\n",
    "4. __Recomendation Systems__: A Machine Learning algorithm that can recommends content to users based on their interests."
   ]
  },
  {
   "cell_type": "markdown",
   "metadata": {},
   "source": [
    "### Answer 3"
   ]
  },
  {
   "attachments": {},
   "cell_type": "markdown",
   "metadata": {},
   "source": [
    "__Labeled Training set__: Dataset in which there are some independent features and one dependent feature, we use these independent feature with a suitable algorithm to predict the dependent feature. Like if we have a dataset of *house prices* in which independent features are *size of house*, *number of rooms* and the dependent feature is *price of house*, then we use independent feature to predict the *price of house*."
   ]
  },
  {
   "attachments": {},
   "cell_type": "markdown",
   "metadata": {},
   "source": [
    "1. What does one mean by the term &quot;machine learning&quot;?\n",
    "\n",
    "2. Can you think of 4 distinct types of issues where it shines?\n",
    "\n",
    "3. What is a labeled training set, and how does it work?\n",
    "\n",
    "4. What are the two most important tasks that are supervised?\n",
    "\n",
    "5. Can you think of four examples of unsupervised tasks?\n",
    "\n",
    "6. State the machine learning model that would be best to make a robot walk through various unfamiliar terrains?\n",
    "7. Which algorithm will you use to divide your customers into different groups?\n",
    "\n",
    "8. Will you consider the problem of spam detection to be a supervised or unsupervised learning problem?\n",
    "\n",
    "9. What is the concept of an online learning system?\n",
    "\n",
    "10. What is out-of-core learning, and how does it differ from core learning?\n",
    "\n",
    "11. What kind of learning algorithm makes predictions using a similarity measure?\n",
    "\n",
    "12. What&#39;s the difference between a model parameter and a hyperparameter in a learning algorithm?\n",
    "\n",
    "13. What are the criteria that model-based learning algorithms look for? What is the most popular method they use to achieve success? What method do they use to make predictions?\n",
    "\n",
    "14. Can you name four of the most important Machine Learning challenges?\n",
    "\n",
    "15. What happens if the model performs well on the training data but fails to generalize the results to new situations? Can you think of three different options?\n",
    "\n",
    "16. What exactly is a test set, and why would you need one?\n",
    "\n",
    "17. What is a validation set&#39;s purpose?\n",
    "\n",
    "18. What precisely is the train-dev kit, when will you need it, how do you put it to use?\n",
    "\n",
    "19. What could go wrong if you use the test set to tune hyperparameters?"
   ]
  },
  {
   "cell_type": "markdown",
   "metadata": {},
   "source": [
    "### Answer 4"
   ]
  },
  {
   "attachments": {},
   "cell_type": "markdown",
   "metadata": {},
   "source": [
    "Tasks of Supervised Learning:\n",
    "1. __Classification__: In this task algorithm predicts a categorical data\n",
    "2. __Regression__: In this task algorithm predicts a continous data"
   ]
  },
  {
   "cell_type": "markdown",
   "metadata": {},
   "source": [
    "### Answer 5"
   ]
  },
  {
   "attachments": {},
   "cell_type": "markdown",
   "metadata": {},
   "source": [
    "Tasks of Unsupervised Learning:\n",
    "1. __Anomaly Detection__: This algorithm can detect unusual pattern in the data\n",
    "2. __Dimensionality Reduction__: This algorithm can simplify the data without losing too much information.\n",
    "3. __Clustering__: This algorithm can group data based on their similarities\n",
    "4. __Association Rule__: This algorithm can find relations between data"
   ]
  },
  {
   "cell_type": "markdown",
   "metadata": {},
   "source": [
    "### Answer 6"
   ]
  },
  {
   "attachments": {},
   "cell_type": "markdown",
   "metadata": {},
   "source": [
    "__Reinforcement Learning algorithm__ would be the best algorithm to make a robot to walk unfamiliar terrains."
   ]
  },
  {
   "cell_type": "markdown",
   "metadata": {},
   "source": [
    "### Answer 7"
   ]
  },
  {
   "attachments": {},
   "cell_type": "markdown",
   "metadata": {},
   "source": [
    "We can use __Clustering Algorithm__ to divide our customers in different groups."
   ]
  },
  {
   "cell_type": "markdown",
   "metadata": {},
   "source": [
    "### Answer 8"
   ]
  },
  {
   "attachments": {},
   "cell_type": "markdown",
   "metadata": {},
   "source": [
    "The spam detection problem is a __supervised learning problem__ because in spam detection the algorithm is predicting a categorical value (whether the mail is spam or not) based on the independent features."
   ]
  },
  {
   "cell_type": "markdown",
   "metadata": {},
   "source": [
    "### Answer 9"
   ]
  },
  {
   "attachments": {},
   "cell_type": "markdown",
   "metadata": {},
   "source": [
    "__Online Learning__: In this learning the algorithm is continously fine tuned by feeding small batches of training data on the fly, by this learning our algorithm can rapidly adapt the changes in data."
   ]
  },
  {
   "cell_type": "markdown",
   "metadata": {},
   "source": [
    "### Answer 10"
   ]
  },
  {
   "attachments": {},
   "cell_type": "markdown",
   "metadata": {},
   "source": [
    "* __Out-of-Core Learning__: This learning algorithm is used to train systems with huge datasets that cannot fit inside machine's memory. In this learning the hugh dataset is divided into mini batches, then these batches are used to train.\n",
    "* __In-Core Learning__: In this learning the dataset is usually is small and the can be loaded in memory for faster evaluation, in-core learning typically involves training a model once."
   ]
  },
  {
   "attachments": {},
   "cell_type": "markdown",
   "metadata": {},
   "source": [
    "### Answer 11"
   ]
  },
  {
   "cell_type": "markdown",
   "metadata": {},
   "source": []
  },
  {
   "cell_type": "markdown",
   "metadata": {},
   "source": [
    "### Answer "
   ]
  },
  {
   "cell_type": "markdown",
   "metadata": {},
   "source": []
  },
  {
   "cell_type": "markdown",
   "metadata": {},
   "source": [
    "### Answer "
   ]
  },
  {
   "cell_type": "markdown",
   "metadata": {},
   "source": []
  },
  {
   "cell_type": "markdown",
   "metadata": {},
   "source": [
    "### Answer "
   ]
  },
  {
   "cell_type": "markdown",
   "metadata": {},
   "source": []
  },
  {
   "cell_type": "markdown",
   "metadata": {},
   "source": [
    "### Answer "
   ]
  },
  {
   "cell_type": "markdown",
   "metadata": {},
   "source": []
  },
  {
   "cell_type": "markdown",
   "metadata": {},
   "source": [
    "### Answer "
   ]
  },
  {
   "cell_type": "markdown",
   "metadata": {},
   "source": []
  },
  {
   "cell_type": "markdown",
   "metadata": {},
   "source": [
    "### Answer "
   ]
  },
  {
   "cell_type": "markdown",
   "metadata": {},
   "source": []
  },
  {
   "cell_type": "markdown",
   "metadata": {},
   "source": [
    "### Answer "
   ]
  },
  {
   "cell_type": "markdown",
   "metadata": {},
   "source": []
  },
  {
   "cell_type": "markdown",
   "metadata": {},
   "source": [
    "### Answer "
   ]
  },
  {
   "cell_type": "markdown",
   "metadata": {},
   "source": []
  }
 ],
 "metadata": {
  "kernelspec": {
   "display_name": "Python 3",
   "language": "python",
   "name": "python3"
  },
  "language_info": {
   "name": "python",
   "version": "3.10.2"
  },
  "orig_nbformat": 4,
  "vscode": {
   "interpreter": {
    "hash": "2469a70536e4d2335a2ea8907942d0699c37342a371ac185bdb5b0aa6f073890"
   }
  }
 },
 "nbformat": 4,
 "nbformat_minor": 2
}
