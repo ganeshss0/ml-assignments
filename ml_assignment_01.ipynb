{
  "cells": [
    {
      "cell_type": "markdown",
      "metadata": {},
      "source": [
        "# Machine Learning Assignment 1"
      ],
      "id": "5de703c4"
    },
    {
      "cell_type": "markdown",
      "metadata": {},
      "source": [
        "### Answer 1"
      ],
      "id": "e8ac277d"
    },
    {
      "cell_type": "markdown",
      "metadata": {},
      "source": [
        "__Machine Learning is the science of programming computers so they can learn from data__, for example a program that can recognize the handwritten character is a Machine Learning Application. In Machine Learning computer is feed with data and the computer turn this data into some mathematical equation and functions."
      ],
      "id": "f1d09399"
    },
    {
      "cell_type": "markdown",
      "metadata": {},
      "source": [
        "### Answer 2"
      ],
      "id": "67cdb039"
    },
    {
      "cell_type": "markdown",
      "metadata": {},
      "source": [
        "Distinct types of issue where Machine Learning shines:\n",
        "1. __Text Recognition__: A Machine Learning algorithm capable of recognizing hand written text and distorted text.\n",
        "2. __Speech Recognition__: A Machine Learning algorithm capable to recognizing speeches.\n",
        "3. __Spam Email Filter__: A Machine Learning algorithm capable of recognizing whether a mail is spam or not.\n",
        "4. __Recomendation Systems__: A Machine Learning algorithm that can recommends content to users based on their interests."
      ],
      "id": "a19875d9"
    },
    {
      "cell_type": "markdown",
      "metadata": {},
      "source": [
        "### Answer 3"
      ],
      "id": "8a324dfa"
    },
    {
      "cell_type": "markdown",
      "metadata": {},
      "source": [
        "__Labeled Training set__: Dataset in which there are some independent features and one dependent feature, we use these independent feature with a suitable algorithm to predict the dependent feature. Like if we have a dataset of *house prices* in which independent features are *size of house*, *number of rooms* and the dependent feature is *price of house*, then we use independent feature to predict the *price of house*."
      ],
      "id": "c057dccf"
    },
    {
      "cell_type": "markdown",
      "metadata": {},
      "source": [
        "### Answer 4"
      ],
      "id": "7d5a2790"
    },
    {
      "cell_type": "markdown",
      "metadata": {},
      "source": [
        "Tasks of Supervised Learning:\n",
        "1. __Classification__: In this task algorithm predicts a categorical data\n",
        "2. __Regression__: In this task algorithm predicts a continous data"
      ],
      "id": "4fa478d2"
    },
    {
      "cell_type": "markdown",
      "metadata": {},
      "source": [
        "### Answer 5"
      ],
      "id": "6dca4865"
    },
    {
      "cell_type": "markdown",
      "metadata": {},
      "source": [
        "Tasks of Unsupervised Learning:\n",
        "1. __Anomaly Detection__: This algorithm can detect unusual pattern in the data\n",
        "2. __Dimensionality Reduction__: This algorithm can simplify the data without losing too much information.\n",
        "3. __Clustering__: This algorithm can group data based on their similarities\n",
        "4. __Association Rule__: This algorithm can find relations between data"
      ],
      "id": "e7ff6bcd"
    },
    {
      "cell_type": "markdown",
      "metadata": {},
      "source": [
        "### Answer 6"
      ],
      "id": "cd503cbd"
    },
    {
      "cell_type": "markdown",
      "metadata": {},
      "source": [
        "__Reinforcement Learning algorithm__ would be the best algorithm to make a robot to walk unfamiliar terrains."
      ],
      "id": "a1c78dcc"
    },
    {
      "cell_type": "markdown",
      "metadata": {},
      "source": [
        "### Answer 7"
      ],
      "id": "0482fdd9"
    },
    {
      "cell_type": "markdown",
      "metadata": {},
      "source": [
        "We can use __Clustering Algorithm__ to divide our customers in different groups."
      ],
      "id": "3ed1add7"
    },
    {
      "cell_type": "markdown",
      "metadata": {},
      "source": [
        "### Answer 8"
      ],
      "id": "69d07e7c"
    },
    {
      "cell_type": "markdown",
      "metadata": {},
      "source": [
        "The spam detection problem is a __supervised learning problem__ because in spam detection the algorithm is predicting a categorical value (whether the mail is spam or not) based on the independent features."
      ],
      "id": "f87372ab"
    },
    {
      "cell_type": "markdown",
      "metadata": {},
      "source": [
        "### Answer 9"
      ],
      "id": "5181dd31"
    },
    {
      "cell_type": "markdown",
      "metadata": {},
      "source": [
        "__Online Learning__: In this learning the algorithm is continously fine tuned by feeding small batches of training data on the fly, by this learning our algorithm can rapidly adapt the changes in data."
      ],
      "id": "30c6a554"
    },
    {
      "cell_type": "markdown",
      "metadata": {},
      "source": [
        "### Answer 10"
      ],
      "id": "a0f1908e"
    },
    {
      "cell_type": "markdown",
      "metadata": {},
      "source": [
        "* __Out-of-Core Learning__: This learning algorithm is used to train systems with huge datasets that cannot fit inside machine's memory. In this learning the hugh dataset is divided into mini batches, then these batches are used to train.\n",
        "* __In-Core Learning__: In this learning the dataset is usually is small and the can be loaded in memory for faster evaluation, in-core learning typically involves training a model once."
      ],
      "id": "4ac613ef"
    },
    {
      "cell_type": "markdown",
      "metadata": {},
      "source": [
        "### Answer 11"
      ],
      "id": "0c34158a"
    },
    {
      "cell_type": "markdown",
      "metadata": {},
      "source": [
        "__Instance Based Learning__: This algorithmn makes prediction using a similarity measure."
      ],
      "id": "18247caf"
    },
    {
      "cell_type": "markdown",
      "metadata": {},
      "source": [
        "### Answer 12"
      ],
      "id": "c4e3e4b4"
    },
    {
      "cell_type": "markdown",
      "metadata": {},
      "source": [
        "* __Model Parameter__: Variable of the selected model which can be estimated by fitting the given data to model.\n",
        "* __Hyperparameter__: Parameter of learning algorithm, it is responsible for the amount of regularization during learning."
      ],
      "id": "6a946acd"
    },
    {
      "cell_type": "markdown",
      "metadata": {},
      "source": [
        "### Answer 13"
      ],
      "id": "63e344e3"
    },
    {
      "cell_type": "markdown",
      "metadata": {},
      "source": [
        "+ In model-based learning the algorithms search for a generalized model that can minimise the cost function and make good prediction on new cases.<br />\n",
        "+ The most common strategy they used is finding realationship in data, selecting a model, training the model(learning algorithm fine tune the model parameter to minimize cost function).<br />\n",
        "+ The algorithms transform the data in into a linear or non linear function and then used this function to make predictions."
      ],
      "id": "797dadf6"
    },
    {
      "cell_type": "markdown",
      "metadata": {},
      "source": [
        "### Answer 14"
      ],
      "id": "38fc9c88"
    },
    {
      "cell_type": "markdown",
      "metadata": {},
      "source": [
        "Four most important challanges for machine learning:\n",
        "1. __Underfitting__: It occurs when a model failed to perform well on both training data and test data.\n",
        "2. __Overfitting__ : It occurs when a model perform good with training data but failed to perform well with test data.\n",
        "3. __Poor-Quality Data__: When training data is full of errors, outliers and noise.\n",
        "4. __Small training Data__: When the size of training data is very low and the algorithm is not able to perform well."
      ],
      "id": "a51e1c0c"
    },
    {
      "cell_type": "markdown",
      "metadata": {},
      "source": [
        "### Answer 15"
      ],
      "id": "9d36563f"
    },
    {
      "cell_type": "markdown",
      "metadata": {},
      "source": [
        "In __Overfitting__ the model performs well on the training data but fails to generalize the results to new situations, Here are three solution of Overfitting:\n",
        "1. Increase the amount of training data.\n",
        "2. Remove outliers, errors and noise from training data.\n",
        "3. Apply a Regularization algorithm and reduce the number of attributes in the training data."
      ],
      "id": "707395ff"
    },
    {
      "cell_type": "markdown",
      "metadata": {},
      "source": [
        "### Answer 16"
      ],
      "id": "0af71262"
    },
    {
      "cell_type": "markdown",
      "metadata": {},
      "source": [
        "In machine learning we usually divide the data into two categories training set and test set it is usually divided into 80-20 or 90-10 ratio. Test set is used to test our model's predictions.<br />\n",
        "We use this test set for our model evaluation and to estimate the error rate on new cases."
      ],
      "id": "b4899a1d"
    },
    {
      "cell_type": "markdown",
      "metadata": {},
      "source": [
        "### Answer 17"
      ],
      "id": "205904ef"
    },
    {
      "cell_type": "markdown",
      "metadata": {},
      "source": [
        "A validation set is used to select the best model from a several models, Here we take a part of training set as validation set and train multiples models from these set and select the model that performs best on the validation set."
      ],
      "id": "826e45fb"
    },
    {
      "cell_type": "markdown",
      "metadata": {},
      "source": [
        "### Answer 18"
      ],
      "id": "b2f2119a"
    },
    {
      "cell_type": "markdown",
      "metadata": {},
      "source": [
        "__train-dev-test split__<br />\n",
        "1. Training Set: This set is used to train the model, the model choose the best parameter to minimize the cost function.\n",
        "2. Dev Set: This set is used to rank the models in term of their generalized errors.\n",
        "3. Test Set: This set is used for model evauluation."
      ],
      "id": "d7684e68"
    },
    {
      "cell_type": "markdown",
      "metadata": {},
      "source": [
        "### Answer 19"
      ],
      "id": "78ceea60"
    },
    {
      "cell_type": "markdown",
      "metadata": {},
      "source": [
        "The main drawback of using test set to tune hyperparameter is that our model would learn the test set and adapt the model and hyperparamters to produce the best model for that particular set. By doing this our model does not perform well with new data."
      ],
      "id": "d8ceba53"
    }
  ],
  "metadata": {
    "kernelspec": {
      "display_name": "Python 3",
      "language": "python",
      "name": "python3"
    },
    "language_info": {
      "name": "python",
      "version": "3.10.2"
    },
    "orig_nbformat": 4,
    "vscode": {
      "interpreter": {
        "hash": "2469a70536e4d2335a2ea8907942d0699c37342a371ac185bdb5b0aa6f073890"
      }
    }
  },
  "nbformat": 4,
  "nbformat_minor": 5
}