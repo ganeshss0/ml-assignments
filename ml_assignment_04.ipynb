{
 "cells": [
  {
   "attachments": {},
   "cell_type": "markdown",
   "metadata": {},
   "source": [
    "<h1 style=\"color:#1cddbd\">Machine Learning Assignment 4</h1>"
   ]
  },
  {
   "attachments": {},
   "cell_type": "markdown",
   "metadata": {},
   "source": [
    "<h3 style=\"color:#1cddbd\">Answer 1</h3>"
   ]
  },
  {
   "attachments": {},
   "cell_type": "markdown",
   "metadata": {},
   "source": [
    "Key task required for Machine Learning Model\n",
    "\n",
    "1. __Study the problem__: This part involves a detailed study and analysis on the problems, also about data gathering.\n",
    "2. __Model Selection__: Selecting a suitable algorithm for this kind of problem, the algorithms should learn out data very well.\n",
    "3. __Model Training__: Training the model with a sufficient amount of data.\n",
    "4. __Model Evaluation__: Model will generalize to new cases. This will ensure how our model perform on instances it has never seen.\n",
    "5. __Model Deployment__: After all the validation and optimization of model it can be depolyed for production."
   ]
  },
  {
   "attachments": {},
   "cell_type": "markdown",
   "metadata": {},
   "source": [
    "<h3 style=\"color:#1cddbd\">Answer 2</h3>"
   ]
  },
  {
   "attachments": {},
   "cell_type": "markdown",
   "metadata": {},
   "source": [
    "Forms of data used in Machine Learning\n",
    "1. __Useless data__: Data is unique, discreate data with no potential relationship with outcome variable.\n",
    "2. __Nominal data__: Data is discrete with numerical relationship between the different categories. Mean, Median are meaningless.\n",
    "3. __Ordinal data__: Data is discrete integers that can be ranked or sorted.\n",
    "4. __Binary data__: Data is discrete that can be only one of two categories.\n",
    "5. __Count data__: Data is discrete whole number, no negitive numbers, it follows Poisson distribution.\n",
    "6. __Time data__: Data is cyclical, repeating continous form of data. The relevent time features can be any period-daily, weekly, monthly, annual, etc.\n",
    "7. __Interval data__: Data has equal spaces between the numbers and does not represent a temporal pattern."
   ]
  },
  {
   "attachments": {},
   "cell_type": "markdown",
   "metadata": {},
   "source": [
    "<h3 style=\"color:#1cddbd\">Answer 3</h3>"
   ]
  },
  {
   "attachments": {},
   "cell_type": "markdown",
   "metadata": {},
   "source": [
    "Numeric vs Categorical Attributes\n",
    "1. __Numeric Attributes__ : The data is expressed in terms of numbers such as a person's height, weight, IQ etc. Categorical data is divided into two types _Nominal data_ and _Ordinal data_.\n",
    "2. __Categorical Attributes__ : The data is stored into groups and categories using names and labels such as gender, name of person etc. Numerical Attributes are divided into two types _Continous data_ and _Discrete data_.\n",
    "\n",
    "Feature Selection vs Dimensionality Reduction\n",
    "1. __Feature Selection__ : The process of reducing the number of input variables when developing a predictive model. Feature selection methods involve evaluating the relationship between each input variable and the target variable using statistics.\n",
    "2. __Dimensionality Reduction__ : The process of transforming the features into a lower dimension. This helps in getting a much clearer approach to the more useful features in the datasets."
   ]
  },
  {
   "attachments": {},
   "cell_type": "markdown",
   "metadata": {},
   "source": [
    "<h3 style=\"color:#1cddbd\">Answer 4</h3>"
   ]
  },
  {
   "attachments": {},
   "cell_type": "markdown",
   "metadata": {},
   "source": [
    "1. __Histogram__ : Histogram is a plot that show and discover the underlying frequency distribution of a set of continous data. This allows the inspection of the data for its underlying distribution(eg. normal distribution), outliers, skewness, etc."
   ]
  },
  {
   "cell_type": "code",
   "execution_count": 49,
   "metadata": {},
   "outputs": [
    {
     "data": {
      "image/png": "[encoded data removed]",
      "text/plain": [
       "<Figure size 432x288 with 1 Axes>"
      ]
     },
     "metadata": {
      "needs_background": "light"
     },
     "output_type": "display_data"
    }
   ],
   "source": [
    "# Histogram of a Normal distribution data\n",
    "\n",
    "import seaborn as sns\n",
    "import numpy as np\n",
    "data = np.random.normal(size = 100)\n",
    "fig = sns.histplot(data = data)"
   ]
  },
  {
   "attachments": {},
   "cell_type": "markdown",
   "metadata": {},
   "source": [
    "2. __Scatter Plot__ : A scatter plot uses dots to represent values for two different numeric variables. Scatter plot are used to observe relationships between two numeric variables."
   ]
  },
  {
   "cell_type": "code",
   "execution_count": 50,
   "metadata": {},
   "outputs": [
    {
     "data": {
      "image/png": "[encoded data removed]",
      "text/plain": [
       "<Figure size 432x288 with 1 Axes>"
      ]
     },
     "metadata": {
      "needs_background": "light"
     },
     "output_type": "display_data"
    }
   ],
   "source": [
    "# A scatter plot from Iris dataset of Petal Length vs Petal Width\n",
    "\n",
    "from sklearn.datasets import load_iris\n",
    "import seaborn as sns\n",
    "import matplotlib.pyplot as plt\n",
    "\n",
    "feature, target= load_iris(return_X_y = True)\n",
    "fig = sns.scatterplot(x = feature[:, 0], y = feature[:, 1])\n",
    "plt.xlabel('Sepal Length')\n",
    "plt.ylabel('Sepal Width')\n",
    "plt.show()"
   ]
  },
  {
   "attachments": {},
   "cell_type": "markdown",
   "metadata": {},
   "source": [
    "<h3 style=\"color:#1cddbd\">Answer 5</h3>"
   ]
  },
  {
   "attachments": {},
   "cell_type": "markdown",
   "metadata": {},
   "source": [
    "Investigating the data helps us to summarize their the main character and underlying pattern of the data. It helps to identify obvious errors, as well as better understanding patterns within the data, detect outliers or anomalous events, find interesting relations among the variables.\n",
    "* Quantitative data is anything that can be counted or measured, it refers to numerical data. In this data we can use mean, median, Time series analysis...\n",
    "* Qualitative data is descriptive, referring to things that can be observed but not measured-such as colors or emotions. In this data we can use mode, sentiment analysis..."
   ]
  },
  {
   "attachments": {},
   "cell_type": "markdown",
   "metadata": {},
   "source": [
    "<h3 style=\"color:#1cddbd\">Answer 6</h3>"
   ]
  },
  {
   "attachments": {},
   "cell_type": "markdown",
   "metadata": {},
   "source": [
    "The various histogram shapes:\n",
    "1. __Bell-Shaped__ : A histogram is bell-shaped if it resembles a 'bell' curve and has one single peak in the middle of the distribution. Most common example is normal distribution.\n",
    "2. __Uniform__ : A histogram is described as 'uniform' if every value in a dataset occurs roughly the same number of times.\\\n",
    "3. __Bimodal__ : A histogram is describe as 'bimodal' if it has two distinct peaks. Or multiple values occur most frequently in the dataset.\n",
    "4. __Multimodal__ : A histogram is 'multimodal' if it has more than two distinct peaks\n",
    "5. __Left Skewed__ : A histogram is 'left skewed' if it has a tail on the left side of the distribution.\n",
    "6. __Right Skewed__ : A histogram is 'right skewed' if it has a tail on the right side of the distribution.\n",
    "7. __Random__ : The shape of a distribution is 'random' if there is no clear pattern in the data.\n",
    "\n",
    "The bars of the histogram are called bins, The height of each bin shows how many values from the data fall into that range."
   ]
  },
  {
   "attachments": {},
   "cell_type": "markdown",
   "metadata": {},
   "source": [
    "<h3 style=\"color:#1cddbd\">Answer 7</h3>"
   ]
  },
  {
   "attachments": {},
   "cell_type": "markdown",
   "metadata": {},
   "source": [
    "We can use Boxplots to visualize a data weather it has outliers or not, Median is also very robust to outliers.\n",
    "We can use these methods from remove outliers:\n",
    "1. We can set up a filter in testing tool(some sort of conditions).\n",
    "2. If there are outliers we can replace them with Median of distribution."
   ]
  },
  {
   "attachments": {},
   "cell_type": "markdown",
   "metadata": {},
   "source": [
    "<h3 style=\"color:#1cddbd\">Answer 8</h3>"
   ]
  },
  {
   "attachments": {},
   "cell_type": "markdown",
   "metadata": {},
   "source": [
    "The measures of central tendency are the arithmetic mean, the median, and the mode. A middle tendency can be calculated of either a finite set of values or for a theoretical distribution, such as normal distribution. Measure of central tendency are numbers that tends to cluster around the 'middle' of a set of values. These are the measures of Tendency:\n",
    "1. Median\n",
    "2. Mode\n",
    "3. Mean of grouped data\n",
    "4. Median of grouped data\n",
    "5. Symmetric distribution\n",
    "6. Skew curves\n",
    "\n",
    "Vary too much from median in certain data sets means the values of the data are bigger or smaller than the actual median of data."
   ]
  },
  {
   "attachments": {},
   "cell_type": "markdown",
   "metadata": {},
   "source": [
    "<h3 style=\"color:#1cddbd\">Answer 9</h3>"
   ]
  },
  {
   "attachments": {},
   "cell_type": "markdown",
   "metadata": {},
   "source": [
    "Scatterplots can display bivariate sets and provide a visual representation of the relationship between variables. In scatterplot, each point represents a paired measurement of two variable for a specific subject, and each subject is represented by one point on the scatterplot.<br />\n",
    "Yes, It is possible to find outliers using a scatter plot."
   ]
  },
  {
   "cell_type": "code",
   "execution_count": 51,
   "metadata": {},
   "outputs": [
    {
     "data": {
      "image/png": "[encoded data removed]",
      "text/plain": [
       "<Figure size 432x288 with 1 Axes>"
      ]
     },
     "metadata": {
      "needs_background": "light"
     },
     "output_type": "display_data"
    }
   ],
   "source": [
    "# In this plot we can see we can easily identify outliers\n",
    "\n",
    "import seaborn as sns\n",
    "a = [1, 2, 3, 4, 5, 6, 7, 8, 9, 10]\n",
    "b = [1, 4, 9, 16, 25, 1, 49, 64, 81, 100]\n",
    "fig = sns.scatterplot(x = a, y = b)"
   ]
  },
  {
   "attachments": {},
   "cell_type": "markdown",
   "metadata": {},
   "source": [
    "<h3 style=\"color:#1cddbd\">Answer 10</h3>"
   ]
  },
  {
   "attachments": {},
   "cell_type": "markdown",
   "metadata": {},
   "source": [
    "`pandas.crosstab` function is special case of pivot table and is a method to quantitaively analyze the relationship between multiple variables. Here is an example of relation in `tips` dataset:"
   ]
  },
  {
   "cell_type": "code",
   "execution_count": 52,
   "metadata": {},
   "outputs": [
    {
     "data": {
      "text/html": [
       "<div>\n",
       "<style scoped>\n",
       "    .dataframe tbody tr th:only-of-type {\n",
       "        vertical-align: middle;\n",
       "    }\n",
       "\n",
       "    .dataframe tbody tr th {\n",
       "        vertical-align: top;\n",
       "    }\n",
       "\n",
       "    .dataframe thead th {\n",
       "        text-align: right;\n",
       "    }\n",
       "</style>\n",
       "<table border=\"1\" class=\"dataframe\">\n",
       "  <thead>\n",
       "    <tr style=\"text-align: right;\">\n",
       "      <th></th>\n",
       "      <th>smoker</th>\n",
       "      <th>Yes</th>\n",
       "      <th>No</th>\n",
       "      <th>All</th>\n",
       "    </tr>\n",
       "    <tr>\n",
       "      <th>time</th>\n",
       "      <th>day</th>\n",
       "      <th></th>\n",
       "      <th></th>\n",
       "      <th></th>\n",
       "    </tr>\n",
       "  </thead>\n",
       "  <tbody>\n",
       "    <tr>\n",
       "      <th rowspan=\"2\" valign=\"top\">Lunch</th>\n",
       "      <th>Thur</th>\n",
       "      <td>17</td>\n",
       "      <td>44</td>\n",
       "      <td>61</td>\n",
       "    </tr>\n",
       "    <tr>\n",
       "      <th>Fri</th>\n",
       "      <td>6</td>\n",
       "      <td>1</td>\n",
       "      <td>7</td>\n",
       "    </tr>\n",
       "    <tr>\n",
       "      <th rowspan=\"4\" valign=\"top\">Dinner</th>\n",
       "      <th>Thur</th>\n",
       "      <td>0</td>\n",
       "      <td>1</td>\n",
       "      <td>1</td>\n",
       "    </tr>\n",
       "    <tr>\n",
       "      <th>Fri</th>\n",
       "      <td>9</td>\n",
       "      <td>3</td>\n",
       "      <td>12</td>\n",
       "    </tr>\n",
       "    <tr>\n",
       "      <th>Sat</th>\n",
       "      <td>42</td>\n",
       "      <td>45</td>\n",
       "      <td>87</td>\n",
       "    </tr>\n",
       "    <tr>\n",
       "      <th>Sun</th>\n",
       "      <td>19</td>\n",
       "      <td>57</td>\n",
       "      <td>76</td>\n",
       "    </tr>\n",
       "    <tr>\n",
       "      <th>All</th>\n",
       "      <th></th>\n",
       "      <td>93</td>\n",
       "      <td>151</td>\n",
       "      <td>244</td>\n",
       "    </tr>\n",
       "  </tbody>\n",
       "</table>\n",
       "</div>"
      ],
      "text/plain": [
       "smoker       Yes   No  All\n",
       "time   day                \n",
       "Lunch  Thur   17   44   61\n",
       "       Fri     6    1    7\n",
       "Dinner Thur    0    1    1\n",
       "       Fri     9    3   12\n",
       "       Sat    42   45   87\n",
       "       Sun    19   57   76\n",
       "All           93  151  244"
      ]
     },
     "execution_count": 52,
     "metadata": {},
     "output_type": "execute_result"
    }
   ],
   "source": [
    "import pandas as pd\n",
    "import seaborn as sns\n",
    "\n",
    "data = sns.load_dataset('tips')\n",
    "\n",
    "pd.crosstab([data.time, data.day], data.smoker, margins=True)"
   ]
  }
 ],
 "metadata": {
  "kernelspec": {
   "display_name": "Python 3",
   "language": "python",
   "name": "python3"
  },
  "language_info": {
   "codemirror_mode": {
    "name": "ipython",
    "version": 3
   },
   "file_extension": ".py",
   "mimetype": "text/x-python",
   "name": "python",
   "nbconvert_exporter": "python",
   "pygments_lexer": "ipython3",
   "version": "3.10.2"
  },
  "orig_nbformat": 4,
  "vscode": {
   "interpreter": {
    "hash": "2469a70536e4d2335a2ea8907942d0699c37342a371ac185bdb5b0aa6f073890"
   }
  }
 },
 "nbformat": 4,
 "nbformat_minor": 2
}
