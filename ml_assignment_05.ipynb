{
 "cells": [
  {
   "attachments": {},
   "cell_type": "markdown",
   "metadata": {},
   "source": [
    "<h1 style=\"color:#1cddbd\">Machine Learning Assignment 5</h1>"
   ]
  },
  {
   "attachments": {},
   "cell_type": "markdown",
   "metadata": {},
   "source": [
    "<h3 style=\"color:#1cddbd\">Answer 1</h3>"
   ]
  },
  {
   "attachments": {},
   "cell_type": "markdown",
   "metadata": {},
   "source": [
    "Key task required for Machine Learning Model\n",
    "\n",
    "1. __Study the problem__: This part involves a detailed study and analysis on the problems, also about data gathering.\n",
    "2. __Model Selection__: Selecting a suitable algorithm for this kind of problem, the algorithms should learn out data very well.\n",
    "3. __Model Training__: Training the model with a sufficient amount of data.\n",
    "4. __Model Evaluation__: Model will generalize to new cases. This will ensure how our model perform on instances it has never seen.\n",
    "5. __Model Deployment__: After all the validation and optimization of model it can be depolyed for production.\n",
    "\n",
    "Data Pre-Processing: In this step we process the data inorder to make it fit for algorithm, like handling missing values, standardizing the data, ordinal encoding, onehot encoding ..."
   ]
  },
  {
   "attachments": {},
   "cell_type": "markdown",
   "metadata": {},
   "source": [
    "<h3 style=\"color:#1cddbd\">Answer 2</h3>"
   ]
  },
  {
   "attachments": {},
   "cell_type": "markdown",
   "metadata": {},
   "source": [
    "* Quantitative data is anything that can be counted or measured, it refers to numerical data. In this data we can use mean, median, Time series analysis... Example: height, length, weight.\n",
    "* Qualitative data is descriptive, referring to things that can be observed but not measured-such as colors or emotions. In this data we can use mode, sentiment analysis... Example: pin-code, fruits, names."
   ]
  },
  {
   "attachments": {},
   "cell_type": "markdown",
   "metadata": {},
   "source": [
    "<h3 style=\"color:#1cddbd\">Answer 3</h3>"
   ]
  },
  {
   "cell_type": "markdown",
   "metadata": {},
   "source": []
  },
  {
   "cell_type": "code",
   "execution_count": null,
   "metadata": {},
   "outputs": [],
   "source": []
  },
  {
   "attachments": {},
   "cell_type": "markdown",
   "metadata": {},
   "source": [
    "<h3 style=\"color:#1cddbd\">Answer 4</h3>"
   ]
  },
  {
   "attachments": {},
   "cell_type": "markdown",
   "metadata": {},
   "source": [
    "Main Machine Learning Data Issue:\n",
    "1. Insufficient Data for Training\n",
    "2. Uneffectiveness of the Data\n",
    "3. Poor Quality of Data\n",
    "4. Overfitting the training data\n",
    "5. Underfitting the training data\n",
    "6. Non representative training data\n",
    "7. Irrelevent features"
   ]
  },
  {
   "attachments": {},
   "cell_type": "markdown",
   "metadata": {},
   "source": [
    "1. What are the key tasks that machine learning entails? What does data pre-processing imply?\n",
    "2. Describe quantitative and qualitative data in depth. Make a distinction between the two.\n",
    "3. Create a basic data collection that includes some sample records. Have at least one attribute from each of the machine learning data types.\n",
    "\n",
    "4. What are the various causes of machine learning data issues? What are the ramifications?\n",
    "\n",
    "5. Demonstrate various approaches to categorical data exploration with appropriate examples.\n",
    "\n",
    "6. How would the learning activity be affected if certain variables have missing values? Having said that, what can be done about it?\n",
    "\n",
    "7. Describe the various methods for dealing with missing data values in depth.\n",
    "\n",
    "8. What are the various data pre-processing techniques? Explain dimensionality reduction and function selection in a few words.\n",
    "\n",
    "9. Describe\n",
    "    i. What is the IQR? What criteria are used to assess it?\n",
    "    ii. Describe the various components of a box plot in detail? When will the lower whisker surpass the upper whisker in length? How can box plots be used to identify outliers?\n",
    "\n",
    "10. Make brief notes on any two of the following:\n",
    "    1. Data collected at regular intervals\n",
    "    2. The gap between the quartiles\n",
    "    3. Use a cross-tab\n",
    "\n",
    "11. Make a comparison between:\n",
    "    1. Data with nominal and ordinal values\n",
    "    2. Histogram and box plot\n",
    "    3. The average and median\n"
   ]
  },
  {
   "cell_type": "code",
   "execution_count": null,
   "metadata": {},
   "outputs": [],
   "source": []
  },
  {
   "attachments": {},
   "cell_type": "markdown",
   "metadata": {},
   "source": [
    "<h3 style=\"color:#1cddbd\">Answer 5</h3>"
   ]
  },
  {
   "cell_type": "markdown",
   "metadata": {},
   "source": []
  },
  {
   "cell_type": "code",
   "execution_count": null,
   "metadata": {},
   "outputs": [],
   "source": []
  },
  {
   "attachments": {},
   "cell_type": "markdown",
   "metadata": {},
   "source": [
    "<h3 style=\"color:#1cddbd\">Answer 6</h3>"
   ]
  },
  {
   "cell_type": "markdown",
   "metadata": {},
   "source": []
  },
  {
   "cell_type": "code",
   "execution_count": null,
   "metadata": {},
   "outputs": [],
   "source": []
  },
  {
   "attachments": {},
   "cell_type": "markdown",
   "metadata": {},
   "source": [
    "<h3 style=\"color:#1cddbd\">Answer 7</h3>"
   ]
  },
  {
   "cell_type": "markdown",
   "metadata": {},
   "source": []
  },
  {
   "cell_type": "code",
   "execution_count": null,
   "metadata": {},
   "outputs": [],
   "source": []
  },
  {
   "attachments": {},
   "cell_type": "markdown",
   "metadata": {},
   "source": [
    "<h3 style=\"color:#1cddbd\">Answer 8</h3>"
   ]
  },
  {
   "cell_type": "markdown",
   "metadata": {},
   "source": []
  },
  {
   "cell_type": "code",
   "execution_count": null,
   "metadata": {},
   "outputs": [],
   "source": []
  },
  {
   "attachments": {},
   "cell_type": "markdown",
   "metadata": {},
   "source": [
    "<h3 style=\"color:#1cddbd\">Answer 9</h3>"
   ]
  },
  {
   "attachments": {},
   "cell_type": "markdown",
   "metadata": {},
   "source": [
    "IQR stands for interquartile range, it is the diffence between the the upper quartile range and lower quartile range."
   ]
  },
  {
   "cell_type": "code",
   "execution_count": null,
   "metadata": {},
   "outputs": [],
   "source": []
  },
  {
   "attachments": {},
   "cell_type": "markdown",
   "metadata": {},
   "source": [
    "<h3 style=\"color:#1cddbd\">Answer 10</h3>"
   ]
  },
  {
   "cell_type": "markdown",
   "metadata": {},
   "source": []
  },
  {
   "cell_type": "code",
   "execution_count": null,
   "metadata": {},
   "outputs": [],
   "source": []
  }
 ],
 "metadata": {
  "kernelspec": {
   "display_name": "Python 3",
   "language": "python",
   "name": "python3"
  },
  "language_info": {
   "name": "python",
   "version": "3.10.2"
  },
  "orig_nbformat": 4,
  "vscode": {
   "interpreter": {
    "hash": "2469a70536e4d2335a2ea8907942d0699c37342a371ac185bdb5b0aa6f073890"
   }
  }
 },
 "nbformat": 4,
 "nbformat_minor": 2
}
