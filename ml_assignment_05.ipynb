{
  "cells": [
    {
      "cell_type": "markdown",
      "metadata": {
        "tags": [
          "show_line_numbers"
        ]
      },
      "source": [
        "<h1 style=\"color:#1cddbd\">Machine Learning Assignment 5</h1>"
      ],
      "id": "2373c8a3"
    },
    {
      "cell_type": "markdown",
      "metadata": {
        "tags": [
          "show_line_numbers"
        ]
      },
      "source": [
        "<h3 style=\"color:#1cddbd\">Answer 1</h3>"
      ],
      "id": "c332bb0d"
    },
    {
      "cell_type": "markdown",
      "metadata": {
        "tags": [
          "show_line_numbers"
        ]
      },
      "source": [
        "Key task required for Machine Learning Model\n",
        "\n",
        "1. __Study the problem__: This part involves a detailed study and analysis on the problems, also about data gathering.\n",
        "2. __Model Selection__: Selecting a suitable algorithm for this kind of problem, the algorithms should learn out data very well.\n",
        "3. __Model Training__: Training the model with a sufficient amount of data.\n",
        "4. __Model Evaluation__: Model will generalize to new cases. This will ensure how our model perform on instances it has never seen.\n",
        "5. __Model Deployment__: After all the validation and optimization of model it can be depolyed for production.\n",
        "\n",
        "Data Pre-Processing: In this step we process the data inorder to make it fit for algorithm, like handling missing values, standardizing the data, ordinal encoding, onehot encoding ..."
      ],
      "id": "4032e8bf"
    },
    {
      "cell_type": "markdown",
      "metadata": {
        "tags": [
          "show_line_numbers"
        ]
      },
      "source": [
        "<h3 style=\"color:#1cddbd\">Answer 2</h3>"
      ],
      "id": "c111f867"
    },
    {
      "cell_type": "markdown",
      "metadata": {
        "tags": [
          "show_line_numbers"
        ]
      },
      "source": "* __Quantitative data__ is anything that can be counted or measured, it refers to numerical data. In this data we can use mean, median, Time series analysis... Example: height, length, weight.\n* __Qualitative data__ is descriptive, referring to things that can be observed but not measured-such as colors or emotions. In this data we can use mode, sentiment analysis... Example: pin-code, fruits, names.",
      "id": "42d94c39"
    },
    {
      "cell_type": "markdown",
      "metadata": {
        "tags": [
          "show_line_numbers"
        ]
      },
      "source": [
        "<h3 style=\"color:#1cddbd\">Answer 3</h3>"
      ],
      "id": "181f197a"
    },
    {
      "cell_type": "markdown",
      "metadata": {
        "tags": [
          "show_line_numbers"
        ]
      },
      "source": [
        "1. What are the key tasks that machine learning entails? What does data pre-processing imply?\n",
        "2. Describe quantitative and qualitative data in depth. Make a distinction between the two.\n",
        "3. Create a basic data collection that includes some sample records. Have at least one attribute from each of the machine learning data types.\n",
        "\n",
        "4. What are the various causes of machine learning data issues? What are the ramifications?\n",
        "\n",
        "5. Demonstrate various approaches to categorical data exploration with appropriate examples.\n",
        "\n",
        "6. How would the learning activity be affected if certain variables have missing values? Having said that, what can be done about it?\n",
        "\n",
        "7. Describe the various methods for dealing with missing data values in depth.\n",
        "\n",
        "8. What are the various data pre-processing techniques? Explain dimensionality reduction and function selection in a few words.\n",
        "\n",
        "9. Describe\n",
        "    i. What is the IQR? What criteria are used to assess it?\n",
        "    ii. Describe the various components of a box plot in detail? When will the lower whisker surpass the upper whisker in length? How can box plots be used to identify outliers?\n",
        "\n",
        "10. Make brief notes on any two of the following:\n",
        "    1. Data collected at regular intervals\n",
        "    2. The gap between the quartiles\n",
        "    3. Use a cross-tab\n",
        "\n",
        "11. Make a comparison between:\n",
        "    1. Data with nominal and ordinal values\n",
        "    2. Histogram and box plot\n",
        "    3. The average and median\n"
      ],
      "id": "1da38afc"
    },
    {
      "cell_type": "markdown",
      "metadata": {
        "tags": [
          "show_line_numbers"
        ]
      },
      "source": "If we consider an example of food delivery service dataset it have at least one attribute from each of the machine learing data types. Here is the dataset that i created:",
      "id": "2a3da02f"
    },
    {
      "id": "ffd17aa3-82e7-475e-a2c6-03b557a00070",
      "cell_type": "code",
      "metadata": {
        "jupyter": {
          "outputs_hidden": false,
          "source_hidden": false
        },
        "noteable": {
          "cell_type": "code",
          "output_collection_id": "2017e17f-fba2-42a8-84ef-6b913a7bc6e6"
        },
        "ExecuteTime": {
          "end_time": "2023-10-04T13:54:25.322842+00:00",
          "start_time": "2023-10-04T13:54:25.166341+00:00"
        }
      },
      "execution_count": null,
      "source": "import pandas as pd\nimport numpy as np\npd.date_range('2023-08-01', '2023-10-01', 10)",
      "outputs": []
    },
    {
      "id": "5d7e396c-bb7e-44dc-8530-5db5f90f6de4",
      "cell_type": "code",
      "metadata": {
        "jupyter": {
          "outputs_hidden": false,
          "source_hidden": false
        },
        "noteable": {
          "cell_type": "code",
          "output_collection_id": "d01fa7a5-473b-462e-bdeb-65c3d72fccb5"
        },
        "ExecuteTime": {
          "end_time": "2023-10-04T13:28:20.266915+00:00",
          "start_time": "2023-10-04T13:28:19.816975+00:00"
        }
      },
      "execution_count": null,
      "source": "import pandas as pd\nimport random\nfrom faker import Faker\nimport datetime\n\n# Initialize Faker to generate fake data\nfake = Faker()\n\n# Create an empty DataFrame with the specified columns\ndata = pd.DataFrame(columns=['Date', 'Order', 'CustomerID', 'PreviousCustomer', 'Rating', 'Review', 'OrderPrice'])\n\n# Define the date range\n# start_date = datetime.datetime(2023, 8, 1)\n# end_date = datetime.datetime(2023, 10, 1)\n# date_range = [start_date + datetime.timedelta(days=x) for x in range(0, (end_date - start_date).days)]\ndate_range = pd.date_range(\n                start='2023-08-01',\n                end='2023-10-01',\n                periods=10)\n# Generate sample data\nfor _ in range(10):  # You can adjust the number of rows as needed\n    date = fake.date_time_between_dates(start_date=start_date, end_date=end_date).strftime('%d-%m-%Y %H:%M')\n    order = fake.word()\n    customer_id = fake.random_int(min=6000000000, max=9999999999)\n    previous_customer = random.choice([True, False])\n    rating = random.randint(1, 5)\n    review = fake.text(max_nb_chars=100)\n    order_price = round(random.uniform(100, 1500), 2)\n    \n    data = data.append({\n        'Date': date,\n        'Order': order,\n        'CustomerID': customer_id,\n        'PreviousCustomer': previous_customer,\n        'Rating': rating,\n        'Review': review,\n        'OrderPrice': order_price\n    }, ignore_index=True)\n\n# Display the first few rows of the generated dataset\nprint(data.head())\n\n# Save the dataset to a CSV file\ndata.to_csv('restaurant_orders.csv', index=False)\n",
      "outputs": []
    },
    {
      "cell_type": "code",
      "execution_count": null,
      "metadata": {
        "tags": [
          "show_line_numbers"
        ]
      },
      "outputs": [],
      "source": "Create a dataset which has columns = ['Date', 'Order', 'CustomerID', 'PreviousCustomer', 'Rating', 'Review', 'OrderPrice']. Here is description of each attribute\n1. 'Date': datetime, format=%d-%m-%Y %H:%M, keep date from 01-08-2023 to 01-10-2023\n2. 'Order': String, indian cuisine name\n3. 'CustomerID': 10 digit mobile number\n4. 'PreviousCustomer': Boolean\n5. 'Rating': number from 1 to 5 including 1 and 5\n6. 'Review': Stirng, sample review upto to 20 words\n7. 'OrderPrice': number, number from 100 to 1500",
      "id": "95813c77"
    },
    {
      "cell_type": "markdown",
      "metadata": {
        "tags": [
          "show_line_numbers"
        ]
      },
      "source": [
        "<h3 style=\"color:#1cddbd\">Answer 4</h3>"
      ],
      "id": "22ff2821"
    },
    {
      "cell_type": "markdown",
      "metadata": {
        "tags": [
          "show_line_numbers"
        ]
      },
      "source": [
        "Main Machine Learning Data Issue:\n",
        "1. Insufficient Data for Training\n",
        "2. Uneffectiveness of the Data\n",
        "3. Poor Quality of Data\n",
        "4. Overfitting the training data\n",
        "5. Underfitting the training data\n",
        "6. Non representative training data\n",
        "7. Irrelevent features"
      ],
      "id": "e6e83a18"
    },
    {
      "cell_type": "code",
      "execution_count": null,
      "metadata": {
        "tags": [
          "show_line_numbers"
        ]
      },
      "outputs": [],
      "source": [],
      "id": "caf6ae13"
    },
    {
      "cell_type": "markdown",
      "metadata": {
        "tags": [
          "show_line_numbers"
        ]
      },
      "source": [
        "<h3 style=\"color:#1cddbd\">Answer 5</h3>"
      ],
      "id": "b2df5e33"
    },
    {
      "cell_type": "markdown",
      "metadata": {
        "tags": [
          "show_line_numbers"
        ]
      },
      "source": [],
      "id": "a4e090cc"
    },
    {
      "cell_type": "code",
      "execution_count": null,
      "metadata": {
        "tags": [
          "show_line_numbers"
        ]
      },
      "outputs": [],
      "source": [],
      "id": "348b2dd6"
    },
    {
      "cell_type": "markdown",
      "metadata": {
        "tags": [
          "show_line_numbers"
        ]
      },
      "source": [
        "<h3 style=\"color:#1cddbd\">Answer 6</h3>"
      ],
      "id": "d96c7496"
    },
    {
      "cell_type": "markdown",
      "metadata": {
        "tags": [
          "show_line_numbers"
        ]
      },
      "source": [],
      "id": "1d65b5ab"
    },
    {
      "cell_type": "code",
      "execution_count": null,
      "metadata": {
        "tags": [
          "show_line_numbers"
        ]
      },
      "outputs": [],
      "source": [],
      "id": "fce393c7"
    },
    {
      "cell_type": "markdown",
      "metadata": {
        "tags": [
          "show_line_numbers"
        ]
      },
      "source": [
        "<h3 style=\"color:#1cddbd\">Answer 7</h3>"
      ],
      "id": "41c9c4d4"
    },
    {
      "cell_type": "markdown",
      "metadata": {
        "tags": [
          "show_line_numbers"
        ]
      },
      "source": [],
      "id": "c8ef87e9"
    },
    {
      "cell_type": "code",
      "execution_count": null,
      "metadata": {
        "tags": [
          "show_line_numbers"
        ]
      },
      "outputs": [],
      "source": [],
      "id": "4fb950fa"
    },
    {
      "cell_type": "markdown",
      "metadata": {
        "tags": [
          "show_line_numbers"
        ]
      },
      "source": [
        "<h3 style=\"color:#1cddbd\">Answer 8</h3>"
      ],
      "id": "ebeaed6c"
    },
    {
      "cell_type": "markdown",
      "metadata": {
        "tags": [
          "show_line_numbers"
        ]
      },
      "source": [],
      "id": "cda0ab0b"
    },
    {
      "cell_type": "code",
      "execution_count": null,
      "metadata": {
        "tags": [
          "show_line_numbers"
        ]
      },
      "outputs": [],
      "source": [],
      "id": "fa18fb07"
    },
    {
      "cell_type": "markdown",
      "metadata": {
        "tags": [
          "show_line_numbers"
        ]
      },
      "source": [
        "<h3 style=\"color:#1cddbd\">Answer 9</h3>"
      ],
      "id": "08e63671"
    },
    {
      "cell_type": "markdown",
      "metadata": {
        "tags": [
          "show_line_numbers"
        ]
      },
      "source": [
        "IQR stands for interquartile range, it is the diffence between the the upper quartile range and lower quartile range."
      ],
      "id": "5767ff12"
    },
    {
      "cell_type": "code",
      "execution_count": null,
      "metadata": {
        "tags": [
          "show_line_numbers"
        ]
      },
      "outputs": [],
      "source": [],
      "id": "15b4f010"
    },
    {
      "cell_type": "markdown",
      "metadata": {
        "tags": [
          "show_line_numbers"
        ]
      },
      "source": [
        "<h3 style=\"color:#1cddbd\">Answer 10</h3>"
      ],
      "id": "190a0b9f"
    },
    {
      "cell_type": "markdown",
      "metadata": {
        "tags": [
          "show_line_numbers"
        ]
      },
      "source": [],
      "id": "e4f19747"
    },
    {
      "cell_type": "code",
      "execution_count": null,
      "metadata": {
        "noteable": {
          "output_collection_id": "cec55e16-677a-402f-9726-9ecec40c1d51"
        },
        "ExecuteTime": {
          "end_time": "2023-09-28T12:40:58.825073+00:00",
          "start_time": "2023-09-28T12:40:58.667839+00:00"
        },
        "tags": [
          "show_line_numbers"
        ]
      },
      "outputs": [],
      "source": "file_name = 'ml_assignment_{}.ipynb'\nwith open('answer_templates.ipynb') as file:\n    text = file.read()\nfor i in range(6, 25):\n    num = str(i) if i > 9 else '0'+str(i)\n    with open(file_name.format(num), 'w') as file:\n        file.write(text)",
      "id": "0318245f"
    },
    {
      "id": "1ed231ab-8579-4157-856d-5bf538dfab68",
      "cell_type": "code",
      "metadata": {
        "jupyter": {
          "outputs_hidden": false,
          "source_hidden": false
        },
        "noteable": {
          "cell_type": "code"
        },
        "tags": [
          "show_line_numbers"
        ]
      },
      "execution_count": null,
      "source": "",
      "outputs": []
    }
  ],
  "metadata": {
    "kernelspec": {
      "display_name": "Python 3.9",
      "language": "python",
      "name": "python3"
    },
    "language_info": {
      "name": "python",
      "version": "3.10.2"
    },
    "orig_nbformat": 4,
    "vscode": {
      "interpreter": {
        "hash": "2469a70536e4d2335a2ea8907942d0699c37342a371ac185bdb5b0aa6f073890"
      }
    },
    "selected_hardware_size": "small",
    "kernel_info": {
      "name": "python3"
    },
    "display_mode": "fullwidth"
  },
  "nbformat": 4,
  "nbformat_minor": 5
}