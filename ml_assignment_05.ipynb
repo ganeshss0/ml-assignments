{
  "cells": [
    {
      "cell_type": "markdown",
      "metadata": {
        "tags": [
          "show_line_numbers"
        ]
      },
      "source": [
        "<h1 style=\"color:#1cddbd\">Machine Learning Assignment 5</h1>"
      ],
      "id": "2373c8a3"
    },
    {
      "cell_type": "markdown",
      "metadata": {
        "tags": [
          "show_line_numbers"
        ]
      },
      "source": [
        "<h3 style=\"color:#1cddbd\">Answer 1</h3>"
      ],
      "id": "c332bb0d"
    },
    {
      "cell_type": "markdown",
      "metadata": {
        "tags": [
          "show_line_numbers"
        ]
      },
      "source": [
        "Key task required for Machine Learning Model\n",
        "\n",
        "1. __Study the problem__: This part involves a detailed study and analysis on the problems, also about data gathering.\n",
        "2. __Model Selection__: Selecting a suitable algorithm for this kind of problem, the algorithms should learn out data very well.\n",
        "3. __Model Training__: Training the model with a sufficient amount of data.\n",
        "4. __Model Evaluation__: Model will generalize to new cases. This will ensure how our model perform on instances it has never seen.\n",
        "5. __Model Deployment__: After all the validation and optimization of model it can be depolyed for production.\n",
        "\n",
        "Data Pre-Processing: In this step we process the data inorder to make it fit for algorithm, like handling missing values, standardizing the data, ordinal encoding, onehot encoding ..."
      ],
      "id": "4032e8bf"
    },
    {
      "cell_type": "markdown",
      "metadata": {
        "tags": [
          "show_line_numbers"
        ]
      },
      "source": [
        "<h3 style=\"color:#1cddbd\">Answer 2</h3>"
      ],
      "id": "c111f867"
    },
    {
      "cell_type": "markdown",
      "metadata": {
        "tags": [
          "show_line_numbers"
        ]
      },
      "source": "* __Quantitative data__ is anything that can be counted or measured, it refers to numerical data. In this data we can use mean, median, Time series analysis... Example: height, length, weight.\n* __Qualitative data__ is descriptive, referring to things that can be observed but not measured-such as colors or emotions. In this data we can use mode, sentiment analysis... Example: pin-code, fruits, names.",
      "id": "42d94c39"
    },
    {
      "cell_type": "markdown",
      "metadata": {
        "tags": [
          "show_line_numbers"
        ]
      },
      "source": [
        "<h3 style=\"color:#1cddbd\">Answer 3</h3>"
      ],
      "id": "181f197a"
    },
    {
      "cell_type": "markdown",
      "metadata": {
        "tags": [
          "show_line_numbers"
        ]
      },
      "source": [
        "1. What are the key tasks that machine learning entails? What does data pre-processing imply?\n",
        "2. Describe quantitative and qualitative data in depth. Make a distinction between the two.\n",
        "3. Create a basic data collection that includes some sample records. Have at least one attribute from each of the machine learning data types.\n",
        "\n",
        "4. What are the various causes of machine learning data issues? What are the ramifications?\n",
        "\n",
        "5. Demonstrate various approaches to categorical data exploration with appropriate examples.\n",
        "\n",
        "6. How would the learning activity be affected if certain variables have missing values? Having said that, what can be done about it?\n",
        "\n",
        "7. Describe the various methods for dealing with missing data values in depth.\n",
        "\n",
        "8. What are the various data pre-processing techniques? Explain dimensionality reduction and function selection in a few words.\n",
        "\n",
        "9. Describe\n",
        "    i. What is the IQR? What criteria are used to assess it?\n",
        "    ii. Describe the various components of a box plot in detail? When will the lower whisker surpass the upper whisker in length? How can box plots be used to identify outliers?\n",
        "\n",
        "10. Make brief notes on any two of the following:\n",
        "    1. Data collected at regular intervals\n",
        "    2. The gap between the quartiles\n",
        "    3. Use a cross-tab\n",
        "\n",
        "11. Make a comparison between:\n",
        "    1. Data with nominal and ordinal values\n",
        "    2. Histogram and box plot\n",
        "    3. The average and median\n"
      ],
      "id": "1da38afc"
    },
    {
      "cell_type": "markdown",
      "metadata": {
        "tags": [
          "show_line_numbers"
        ]
      },
      "source": "If we consider an example of food delivery service dataset it have at least one attribute from each of the machine learing data types. Here is the dataset that i created:",
      "id": "2a3da02f"
    },
    {
      "id": "5d7e396c-bb7e-44dc-8530-5db5f90f6de4",
      "cell_type": "code",
      "metadata": {
        "jupyter": {
          "outputs_hidden": false,
          "source_hidden": false
        },
        "noteable": {
          "cell_type": "code",
          "output_collection_id": "de49b961-23df-4788-bd1b-187eb7ef3bbb"
        },
        "ExecuteTime": {
          "end_time": "2023-10-04T13:27:23.892177+00:00",
          "start_time": "2023-10-04T13:27:23.425725+00:00"
        }
      },
      "execution_count": null,
      "source": "%ntbl",
      "outputs": []
    },
    {
      "cell_type": "code",
      "execution_count": null,
      "metadata": {
        "tags": [
          "show_line_numbers"
        ]
      },
      "outputs": [],
      "source": [],
      "id": "95813c77"
    },
    {
      "cell_type": "markdown",
      "metadata": {
        "tags": [
          "show_line_numbers"
        ]
      },
      "source": [
        "<h3 style=\"color:#1cddbd\">Answer 4</h3>"
      ],
      "id": "22ff2821"
    },
    {
      "cell_type": "markdown",
      "metadata": {
        "tags": [
          "show_line_numbers"
        ]
      },
      "source": [
        "Main Machine Learning Data Issue:\n",
        "1. Insufficient Data for Training\n",
        "2. Uneffectiveness of the Data\n",
        "3. Poor Quality of Data\n",
        "4. Overfitting the training data\n",
        "5. Underfitting the training data\n",
        "6. Non representative training data\n",
        "7. Irrelevent features"
      ],
      "id": "e6e83a18"
    },
    {
      "cell_type": "code",
      "execution_count": null,
      "metadata": {
        "tags": [
          "show_line_numbers"
        ]
      },
      "outputs": [],
      "source": [],
      "id": "caf6ae13"
    },
    {
      "cell_type": "markdown",
      "metadata": {
        "tags": [
          "show_line_numbers"
        ]
      },
      "source": [
        "<h3 style=\"color:#1cddbd\">Answer 5</h3>"
      ],
      "id": "b2df5e33"
    },
    {
      "cell_type": "markdown",
      "metadata": {
        "tags": [
          "show_line_numbers"
        ]
      },
      "source": [],
      "id": "a4e090cc"
    },
    {
      "cell_type": "code",
      "execution_count": null,
      "metadata": {
        "tags": [
          "show_line_numbers"
        ]
      },
      "outputs": [],
      "source": [],
      "id": "348b2dd6"
    },
    {
      "cell_type": "markdown",
      "metadata": {
        "tags": [
          "show_line_numbers"
        ]
      },
      "source": [
        "<h3 style=\"color:#1cddbd\">Answer 6</h3>"
      ],
      "id": "d96c7496"
    },
    {
      "cell_type": "markdown",
      "metadata": {
        "tags": [
          "show_line_numbers"
        ]
      },
      "source": [],
      "id": "1d65b5ab"
    },
    {
      "cell_type": "code",
      "execution_count": null,
      "metadata": {
        "tags": [
          "show_line_numbers"
        ]
      },
      "outputs": [],
      "source": [],
      "id": "fce393c7"
    },
    {
      "cell_type": "markdown",
      "metadata": {
        "tags": [
          "show_line_numbers"
        ]
      },
      "source": [
        "<h3 style=\"color:#1cddbd\">Answer 7</h3>"
      ],
      "id": "41c9c4d4"
    },
    {
      "cell_type": "markdown",
      "metadata": {
        "tags": [
          "show_line_numbers"
        ]
      },
      "source": [],
      "id": "c8ef87e9"
    },
    {
      "cell_type": "code",
      "execution_count": null,
      "metadata": {
        "tags": [
          "show_line_numbers"
        ]
      },
      "outputs": [],
      "source": [],
      "id": "4fb950fa"
    },
    {
      "cell_type": "markdown",
      "metadata": {
        "tags": [
          "show_line_numbers"
        ]
      },
      "source": [
        "<h3 style=\"color:#1cddbd\">Answer 8</h3>"
      ],
      "id": "ebeaed6c"
    },
    {
      "cell_type": "markdown",
      "metadata": {
        "tags": [
          "show_line_numbers"
        ]
      },
      "source": [],
      "id": "cda0ab0b"
    },
    {
      "cell_type": "code",
      "execution_count": null,
      "metadata": {
        "tags": [
          "show_line_numbers"
        ]
      },
      "outputs": [],
      "source": [],
      "id": "fa18fb07"
    },
    {
      "cell_type": "markdown",
      "metadata": {
        "tags": [
          "show_line_numbers"
        ]
      },
      "source": [
        "<h3 style=\"color:#1cddbd\">Answer 9</h3>"
      ],
      "id": "08e63671"
    },
    {
      "cell_type": "markdown",
      "metadata": {
        "tags": [
          "show_line_numbers"
        ]
      },
      "source": [
        "IQR stands for interquartile range, it is the diffence between the the upper quartile range and lower quartile range."
      ],
      "id": "5767ff12"
    },
    {
      "cell_type": "code",
      "execution_count": null,
      "metadata": {
        "tags": [
          "show_line_numbers"
        ]
      },
      "outputs": [],
      "source": [],
      "id": "15b4f010"
    },
    {
      "cell_type": "markdown",
      "metadata": {
        "tags": [
          "show_line_numbers"
        ]
      },
      "source": [
        "<h3 style=\"color:#1cddbd\">Answer 10</h3>"
      ],
      "id": "190a0b9f"
    },
    {
      "cell_type": "markdown",
      "metadata": {
        "tags": [
          "show_line_numbers"
        ]
      },
      "source": [],
      "id": "e4f19747"
    },
    {
      "cell_type": "code",
      "execution_count": null,
      "metadata": {
        "noteable": {
          "output_collection_id": "cec55e16-677a-402f-9726-9ecec40c1d51"
        },
        "ExecuteTime": {
          "end_time": "2023-09-28T12:40:58.825073+00:00",
          "start_time": "2023-09-28T12:40:58.667839+00:00"
        },
        "tags": [
          "show_line_numbers"
        ]
      },
      "outputs": [],
      "source": "file_name = 'ml_assignment_{}.ipynb'\nwith open('answer_templates.ipynb') as file:\n    text = file.read()\nfor i in range(6, 25):\n    num = str(i) if i > 9 else '0'+str(i)\n    with open(file_name.format(num), 'w') as file:\n        file.write(text)",
      "id": "0318245f"
    },
    {
      "id": "1ed231ab-8579-4157-856d-5bf538dfab68",
      "cell_type": "code",
      "metadata": {
        "jupyter": {
          "outputs_hidden": false,
          "source_hidden": false
        },
        "noteable": {
          "cell_type": "code"
        },
        "tags": [
          "show_line_numbers"
        ]
      },
      "execution_count": null,
      "source": "",
      "outputs": []
    }
  ],
  "metadata": {
    "kernelspec": {
      "display_name": "Python 3.9",
      "language": "python",
      "name": "python3"
    },
    "language_info": {
      "name": "python",
      "version": "3.10.2"
    },
    "orig_nbformat": 4,
    "vscode": {
      "interpreter": {
        "hash": "2469a70536e4d2335a2ea8907942d0699c37342a371ac185bdb5b0aa6f073890"
      }
    },
    "selected_hardware_size": "small",
    "kernel_info": {
      "name": "python3"
    },
    "display_mode": "fullwidth"
  },
  "nbformat": 4,
  "nbformat_minor": 5
}