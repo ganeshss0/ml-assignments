{
 "cells": [
  {
   "attachments": {},
   "cell_type": "markdown",
   "metadata": {},
   "source": [
    "# Machine Learning Assignment 2"
   ]
  },
  {
   "cell_type": "markdown",
   "metadata": {},
   "source": [
    "### Answer 1"
   ]
  },
  {
   "attachments": {},
   "cell_type": "markdown",
   "metadata": {},
   "source": [
    "The concept of human learning is how human learn skills, behaviours or knowledge.\n",
    "Examples:\n",
    "* Human learning speak, language\n",
    "* Human learning reading, writing"
   ]
  },
  {
   "cell_type": "markdown",
   "metadata": {},
   "source": [
    "### Answer 2"
   ]
  },
  {
   "attachments": {},
   "cell_type": "markdown",
   "metadata": {},
   "source": [
    "* Learning through Classical Conditioning: Learning takes place through the formation of associations.\n",
    "* Learning through Operant Conditioning: Learning occurs when an individual learns to associate a behavior with a consequence.\n",
    "* Learning through Observation: Learning occur by observing the actions and consequnces of other people's behavior.\n",
    "\n",
    "Yes, Reinforcement Learning algorithm is similar to human's learning through Operant Conditioning."
   ]
  },
  {
   "cell_type": "markdown",
   "metadata": {},
   "source": [
    "### Answer 3"
   ]
  },
  {
   "attachments": {},
   "cell_type": "markdown",
   "metadata": {},
   "source": [
    "Machine Learning is the science of programming computers so they can learn from data.<br />\n",
    "In Machine Learning we are solving a problem with the help of computer using a algorithm that is trained on lots of data.<br />\n",
    "Responsiblities of Machine Learning\n",
    "* Flucating Environments: A Machine Learning system can adapt to new data.\n",
    "* Getting insights about complex problems and large amounts of data."
   ]
  },
  {
   "cell_type": "markdown",
   "metadata": {},
   "source": [
    "### Answer 4"
   ]
  },
  {
   "attachments": {},
   "cell_type": "markdown",
   "metadata": {},
   "source": [
    "In Reinforcement Learning agents are trained on a reward and penalty mechanism. The agent is rewarded for correct moves and penalty for wrong move. So the agent tries to minimize wroong moves and maximize the right moves due to its implemented policy."
   ]
  },
  {
   "cell_type": "markdown",
   "metadata": {},
   "source": [
    "### Answer 5"
   ]
  },
  {
   "attachments": {},
   "cell_type": "markdown",
   "metadata": {},
   "source": [
    "The learning process can be seen as a search problem, where the goal is to find the most optimal solution within a given space of possibilities. This search process typically involves trying out different hypotheses, testing them against data, and iteratively refining the search based on feedback from the results."
   ]
  },
  {
   "cell_type": "markdown",
   "metadata": {},
   "source": [
    "### Answer 6"
   ]
  },
  {
   "attachments": {},
   "cell_type": "markdown",
   "metadata": {},
   "source": [
    "Goals for Machine Learning\n",
    "* To minimize the error in predictions.\n",
    "* Complex problems for which there is no good solution at all using a traditional approach.\n",
    "* Getting insights about complex problems and large amount of data.\n",
    "\n",
    "Relationship of Goals of ML with Human Learning\n",
    "* Human Learning also want to minimize the mistakes in daily life.\n",
    "* Human Learning also include of thinking, mental processes on complex problems.\n",
    "* Human Learning ability to learn throught its surroundings."
   ]
  },
  {
   "cell_type": "markdown",
   "metadata": {},
   "source": [
    "### Answer 7"
   ]
  },
  {
   "attachments": {},
   "cell_type": "markdown",
   "metadata": {},
   "source": [
    "__Elements of Machine Learning__\n",
    "Spam Classification from Machine Learning\n",
    "1. Study the problem: Analyse the spam emails, these emails contains common words like \"4U\", \"free money\", \"bonus\"... Other pattern like sender's name, email body...\n",
    "2. Model Selection: Selecting a suitable algorithm for this kind of problem, As this is a classification problem so we select a best classifier.\n",
    "3. Model Training: Training the model with a sufficient amount of data.\n",
    "4. Model Evaluation: Model will generalize to new cases. This will ensure how our model perform on instances it has never seen.\n",
    "5. Model Deployment: After all the validation and optimization of model it can be depolyed for production."
   ]
  },
  {
   "attachments": {},
   "cell_type": "markdown",
   "metadata": {},
   "source": [
    "### Answer 8"
   ]
  },
  {
   "attachments": {},
   "cell_type": "markdown",
   "metadata": {},
   "source": [
    "__Principal Component Analysis(PCA)__<br />\n",
    "PCA can be used as an abstraction method in machine learning to simplify the complexity of high-dimensional datasets."
   ]
  },
  {
   "attachments": {},
   "cell_type": "markdown",
   "metadata": {},
   "source": [
    "### Answer 9"
   ]
  },
  {
   "attachments": {},
   "cell_type": "markdown",
   "metadata": {},
   "source": [
    "__Generalization__ refers to your model's ability to adapt properly to new, previously unseen data, drawn from the same distribution as the one used to create the model.<br />\n",
    "If a model is not generalize well its generalization error increase, this means model is overfitting the training data."
   ]
  },
  {
   "attachments": {},
   "cell_type": "markdown",
   "metadata": {},
   "source": [
    "### Answer 10"
   ]
  },
  {
   "cell_type": "markdown",
   "metadata": {},
   "source": [
    "\n",
    "__Classification__: It is a supervised machine learing task that involves predicting the class of the given data points. Example, a spam filter can classify whether a email is spam or not.<br />\n",
    "* Distinction between Classification and Regression\n",
    "\n",
    "||Classification|Regression|\n",
    "|---|---|---|\n",
    "|Predict|Categorical Variable|Continous Variable|\n",
    "|Accuracy|Confusion matrix|RMSE, R-Squared|\n"
   ]
  },
  {
   "attachments": {},
   "cell_type": "markdown",
   "metadata": {},
   "source": [
    "### Answer 11"
   ]
  },
  {
   "attachments": {},
   "cell_type": "markdown",
   "metadata": {},
   "source": [
    "__Regression__: It is a supervised machine learing task that involves predicting the value based on independent variables. It is mostly used for finding out the relationship between variable and forecasting.<br />\n",
    "If we want to know what is price of a house based on its features like size, number of rooms, location we can use a regression algorithm(linear regression) that predict the price of house using these features."
   ]
  },
  {
   "attachments": {},
   "cell_type": "markdown",
   "metadata": {},
   "source": [
    "### Answer 12"
   ]
  },
  {
   "attachments": {},
   "cell_type": "markdown",
   "metadata": {},
   "source": [
    "__Clustering__ is an unsupervised machine learning task. It involves dividing the data into a number of groups based on their similarities.<br />\n",
    "Clustering Methods:\n",
    "* __Density-Based Methods__: These methods consider the clusters as the dense region having some similarities and differences from the lower dense region of the space. These methods have good accuracy and the ability to merge two clusters.\n",
    "* __Hierarchical Based Methods__: The clusters formed in this method form a tree-type structure based on the hierarchy. New clusters are formed using the previously formed one.\n",
    "* __Partitioning Methods__: These methods partition the objects into k clusters and each partition forms one cluster.\n",
    "* __Grid-based Methods__: In this method, the data space is formulated into a finite number of cells that form a grid-like structure."
   ]
  },
  {
   "attachments": {},
   "cell_type": "markdown",
   "metadata": {},
   "source": [
    "### Answer 13"
   ]
  },
  {
   "attachments": {},
   "cell_type": "markdown",
   "metadata": {},
   "source": [
    "1. Machine Learning algorithm:\n",
    "* Problems for which existing solutions require a lot of hand-tuning or long list of rules: Machine Learning algorithm can often simplify code and perform better.\n",
    "* Fluctuating environments: A Machine Learning system can adapt the new data.\n",
    "* Getting insights about complex problems and large amounts of data.\n",
    "2. Reinforcement Learning algorithm is similar like how human Operant Conditioning Learning. In this learning system, called an agent that can observe environment and interact with it. This agent get rewards or penalties in return from observer. It must then learn by itself what is the best strategy, called policy, to get most reward over time."
   ]
  }
 ],
 "metadata": {
  "kernelspec": {
   "display_name": "Python 3",
   "language": "python",
   "name": "python3"
  },
  "language_info": {
   "name": "python",
   "version": "3.10.2"
  },
  "orig_nbformat": 4,
  "vscode": {
   "interpreter": {
    "hash": "2469a70536e4d2335a2ea8907942d0699c37342a371ac185bdb5b0aa6f073890"
   }
  }
 },
 "nbformat": 4,
 "nbformat_minor": 2
}
