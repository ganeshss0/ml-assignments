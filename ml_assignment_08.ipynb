{
  "cells": [
    {
      "attachments": {},
      "cell_type": "markdown",
      "metadata": {},
      "source": [
        "<h1 style=\"color:#1cddbd\">Machine Learning Assignment</h1>"
      ],
      "id": "8bbf1e6e"
    },
    {
      "attachments": {},
      "cell_type": "markdown",
      "metadata": {},
      "source": [
        "<h3 style=\"color:#1cddbd\">Answer 1</h3>"
      ],
      "id": "100fab22"
    },
    {
      "cell_type": "markdown",
      "metadata": {},
      "source": [],
      "id": "af234ef1"
    },
    {
      "cell_type": "code",
      "execution_count": null,
      "metadata": {},
      "outputs": [],
      "source": [],
      "id": "ebe4e1a1"
    },
    {
      "attachments": {},
      "cell_type": "markdown",
      "metadata": {},
      "source": [
        "<h3 style=\"color:#1cddbd\">Answer 2</h3>"
      ],
      "id": "98163b64"
    },
    {
      "cell_type": "markdown",
      "metadata": {},
      "source": [],
      "id": "025a2ca3"
    },
    {
      "cell_type": "code",
      "execution_count": null,
      "metadata": {},
      "outputs": [],
      "source": [],
      "id": "c6708fab"
    },
    {
      "attachments": {},
      "cell_type": "markdown",
      "metadata": {},
      "source": [
        "<h3 style=\"color:#1cddbd\">Answer 3</h3>"
      ],
      "id": "8f701067"
    },
    {
      "cell_type": "markdown",
      "metadata": {},
      "source": [],
      "id": "1d511bac"
    },
    {
      "cell_type": "code",
      "execution_count": null,
      "metadata": {},
      "outputs": [],
      "source": [],
      "id": "d56d6776"
    },
    {
      "attachments": {},
      "cell_type": "markdown",
      "metadata": {},
      "source": [
        "<h3 style=\"color:#1cddbd\">Answer 4</h3>"
      ],
      "id": "25ecb607"
    },
    {
      "cell_type": "markdown",
      "metadata": {},
      "source": [],
      "id": "3273b7b8"
    },
    {
      "cell_type": "code",
      "execution_count": null,
      "metadata": {},
      "outputs": [],
      "source": [],
      "id": "38a14d50"
    },
    {
      "attachments": {},
      "cell_type": "markdown",
      "metadata": {},
      "source": [
        "<h3 style=\"color:#1cddbd\">Answer 5</h3>"
      ],
      "id": "a3b0d335"
    },
    {
      "cell_type": "markdown",
      "metadata": {},
      "source": [],
      "id": "9a1cbd50"
    },
    {
      "cell_type": "code",
      "execution_count": null,
      "metadata": {},
      "outputs": [],
      "source": [],
      "id": "9d4ada1c"
    },
    {
      "attachments": {},
      "cell_type": "markdown",
      "metadata": {},
      "source": [
        "<h3 style=\"color:#1cddbd\">Answer 6</h3>"
      ],
      "id": "ca018239"
    },
    {
      "cell_type": "markdown",
      "metadata": {},
      "source": [],
      "id": "199af8f8"
    },
    {
      "cell_type": "code",
      "execution_count": null,
      "metadata": {},
      "outputs": [],
      "source": [],
      "id": "25fa9adb"
    },
    {
      "attachments": {},
      "cell_type": "markdown",
      "metadata": {},
      "source": [
        "<h3 style=\"color:#1cddbd\">Answer 7</h3>"
      ],
      "id": "dde18283"
    },
    {
      "cell_type": "markdown",
      "metadata": {},
      "source": [],
      "id": "bf30c5e0"
    },
    {
      "cell_type": "code",
      "execution_count": null,
      "metadata": {},
      "outputs": [],
      "source": [],
      "id": "a5d0f6ba"
    },
    {
      "attachments": {},
      "cell_type": "markdown",
      "metadata": {},
      "source": [
        "<h3 style=\"color:#1cddbd\">Answer 8</h3>"
      ],
      "id": "21b66da5"
    },
    {
      "cell_type": "markdown",
      "metadata": {},
      "source": [],
      "id": "68984fed"
    },
    {
      "cell_type": "code",
      "execution_count": null,
      "metadata": {},
      "outputs": [],
      "source": [],
      "id": "7658f982"
    },
    {
      "attachments": {},
      "cell_type": "markdown",
      "metadata": {},
      "source": [
        "<h3 style=\"color:#1cddbd\">Answer 9</h3>"
      ],
      "id": "2d7ab95c"
    },
    {
      "cell_type": "markdown",
      "metadata": {},
      "source": [],
      "id": "00f0ff90"
    },
    {
      "cell_type": "code",
      "execution_count": null,
      "metadata": {},
      "outputs": [],
      "source": [],
      "id": "7520d6d3"
    },
    {
      "attachments": {},
      "cell_type": "markdown",
      "metadata": {},
      "source": [
        "<h3 style=\"color:#1cddbd\">Answer 10</h3>"
      ],
      "id": "6c8d6889"
    },
    {
      "cell_type": "markdown",
      "metadata": {},
      "source": [],
      "id": "d9207431"
    },
    {
      "cell_type": "code",
      "execution_count": null,
      "metadata": {},
      "outputs": [],
      "source": [],
      "id": "3c056b1a"
    }
  ],
  "metadata": {
    "kernelspec": {
      "display_name": "Python 3",
      "language": "python",
      "name": "python3"
    },
    "language_info": {
      "name": "python",
      "version": "3.10.2"
    },
    "orig_nbformat": 4,
    "vscode": {
      "interpreter": {
        "hash": "2469a70536e4d2335a2ea8907942d0699c37342a371ac185bdb5b0aa6f073890"
      }
    },
    "selected_hardware_size": "small"
  },
  "nbformat": 4,
  "nbformat_minor": 5
}