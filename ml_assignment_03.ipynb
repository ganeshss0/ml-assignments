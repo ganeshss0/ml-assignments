{
 "cells": [
  {
   "attachments": {},
   "cell_type": "markdown",
   "metadata": {},
   "source": [
    "<h1 style=\"color:#1cddbd\">Machine Learning Assignment 3</h1>"
   ]
  },
  {
   "attachments": {},
   "cell_type": "markdown",
   "metadata": {},
   "source": [
    "<h3 style=\"color:#1cddbd\">Answer 1</h3>"
   ]
  },
  {
   "attachments": {},
   "cell_type": "markdown",
   "metadata": {},
   "source": [
    "Machine Learning is the sciene of programming computers so they can learn from data.<br />\n",
    "A Machine Learning program analyse the data and make insights, relationship and patterns in the data, based on that it construct a mathematical equations that can represent all the points in data and can predict future data points as well with minimizing the error.<br /><br />\n",
    "Machine Learning Application in Business World:\n",
    "+ __Spam Classification__: A Machine Learning Program that can flag email spam or not spam. It is based on Classification task, It can flag an email based on some words(such as \"4U\", \"credit card\", \"free\") and details like sender's name, email's body.\n",
    "+ __Speech Recognition__: A Machine Learning Program that can transcibe speeches, It is based on Natural Language Processing. It is usefull in automatic caption in videos, translation and voice operated devices.\n",
    "\n",
    "Concerns that Machine Learning applications could raise:<br />\n",
    "+ __Bias__: Machine Learning models can be biased if they are trained on biased data.\n",
    "+ __Security__: Machine Learning algorithms can be vulnerable to attacks like data poisoning or adversarial attacks.\n"
   ]
  },
  {
   "attachments": {},
   "cell_type": "markdown",
   "metadata": {},
   "source": [
    "<h3 style=\"color:#1cddbd\">Answer 2</h3>"
   ]
  },
  {
   "attachments": {},
   "cell_type": "markdown",
   "metadata": {},
   "source": [
    "1. __Human Learning Under supervision of expert__\n",
    "    * The learner is supervised by an expert(such as teacher) who provides guidance. The expert teaches knowledge and skills and test their understanding through evaulation.\n",
    "2. __Human Learning with the assistance of expert as an indirect manner__\n",
    "    * The learner is not directly supervised by an expert but receive guidance as indirect manner. Such as student learning through recorded videos on ineuron, reading books.\n",
    "3. __Human Learning throught self education__\n",
    "    * The learner is not supervised by an expert but the learning responsiblity is on their own. This also involves reading books reading books, watching videos. Seeking out resources and opportunities to expand their knowledge."
   ]
  },
  {
   "attachments": {},
   "cell_type": "markdown",
   "metadata": {},
   "source": [
    "<h3 style=\"color:#1cddbd\">Answer 3</h3>"
   ]
  },
  {
   "attachments": {},
   "cell_type": "markdown",
   "metadata": {},
   "source": [
    "Types of Machine Learning\n",
    "* __Batch Learning__\n",
    "* __Online Learning__\n",
    "* __Instance-Based Learning__\n",
    "* __Model-Based Learning__"
   ]
  },
  {
   "attachments": {},
   "cell_type": "markdown",
   "metadata": {},
   "source": [
    "<h3 style=\"color:#1cddbd\">Answer 4</h3>"
   ]
  },
  {
   "attachments": {},
   "cell_type": "markdown",
   "metadata": {},
   "source": [
    "Forms of Machine Learning\n",
    "1. __Supervised Learning__: The training data feeded to the algorithm includes the solutions, called labels.\n",
    "2. __Unsupervised Learning__: The training data is unlabeled, algorithms finds patterns in data.\n",
    "3. __Semisupervised Learning__: Algorithms feeded with a partially labeled training data(usually lot of unlabeled data and little bit of labeled data).\n",
    "4. __Reinforcement Learning__: The agent(learning system) can observe the environment, select and perform actions and get rewards or penalties."
   ]
  },
  {
   "attachments": {},
   "cell_type": "markdown",
   "metadata": {},
   "source": [
    "<h3 style=\"color:#1cddbd\">Answer 5</h3>"
   ]
  },
  {
   "attachments": {},
   "cell_type": "markdown",
   "metadata": {},
   "source": [
    "A __well-posed learning problem__ is a problem in which a solution exists, and the solution is unique that can be solved using machine learning techniques. Also the solution's behaviour changes continously with the initial conditions. These are essential for developing effective machine learning algorithms.<br /><br />\n",
    "Characteristics of well-posed learning problem:\n",
    "* __Existence__: There must be a solution of the problem, or the problem solvable using machine learning algorithms.\n",
    "* __Unique__: The solution of the problem must be unique means solution is well defined.\n",
    "* __Stable__: The solution must be stable to continous changes."
   ]
  },
  {
   "attachments": {},
   "cell_type": "markdown",
   "metadata": {},
   "source": [
    "<h3 style=\"color:#1cddbd\">Answer 6</h3>"
   ]
  },
  {
   "attachments": {},
   "cell_type": "markdown",
   "metadata": {},
   "source": [
    "As per my understanding machine learning can only solve a problem that is pattern based or the problem that can be transcribed into mathematical equations or problems that a human can also solve but require a lot of time and patience.<br />\n",
    "If I would say a machine learning algorithms to explain the meaning of vedic scriptures, It can't explain, because these vedic scriptures are not clearly understood by us(humans) also."
   ]
  },
  {
   "attachments": {},
   "cell_type": "markdown",
   "metadata": {},
   "source": [
    "<h3 style=\"color:#1cddbd\">Answer 7</h3>"
   ]
  },
  {
   "attachments": {},
   "cell_type": "markdown",
   "metadata": {},
   "source": [
    "Types of Machine Learning Systems\n",
    "1. __Supervised Learning__\n",
    "2. __Unsupervised Learning__\n",
    "3. __Semisupervised Learning__\n",
    "4. __Reinforcement Learning__\n",
    "\n",
    "Technologies for Solving Machine Learning Problems\n",
    "1. __Python Libraries__: Scikit Learn, Tensorflow, Keras, Pytorch...\n",
    "2. __R Libraries__: mlr, caret...\n",
    "* __Semisupervised Learning__: Some algorithms can deal with partially labeled training data, usually a lot of unlabeled data and a little bit of labeled data.\n",
    "* __Reinforcement Learning__: The agent(learning system) can observe the environment, select and perform actions, and get rewards in return or penalties in form of negitive rewards, It learn by itself according to its implemented policy."
   ]
  },
  {
   "attachments": {},
   "cell_type": "markdown",
   "metadata": {},
   "source": [
    "<h3 style=\"color:#1cddbd\">Answer 8</h3>"
   ]
  },
  {
   "attachments": {},
   "cell_type": "markdown",
   "metadata": {},
   "source": [
    "Forms of Supervised Machine Learning:\n",
    "1. __Classification__: It is a supervised machine learing task that involves predicting the class of the given data points. Example, a spam filter can classify whether a email is spam or not.\n",
    "2. __Regression__: It is a supervised machine learing task that involves predicting the value based on independent variables. It is mostly used for finding out the relationship between variable and forecasting. Example, a regression algorithm(linear regression) that predict the price of house using features."
   ]
  },
  {
   "attachments": {},
   "cell_type": "markdown",
   "metadata": {},
   "source": [
    "<h3 style=\"color:#1cddbd\">Answer 9</h3>"
   ]
  },
  {
   "attachments": {},
   "cell_type": "markdown",
   "metadata": {},
   "source": [
    "1. __Supervised Learning__ is a machine learning approach that's defined its use of labeled datasets.These datasets are designed to train algorithms into classifying data or predicting outcomes.\n",
    "    * Classify spam emails\n",
    "    * Separating apples from oranges\n",
    "    * House price prediction\n",
    "2. __Unsupervised Learning__ uses machine learning algorithms to analyze and cluster unlabeled data sets. These algorithms discover hidden patterns in data.\n",
    "    * Grouping customers based on their purchases\n",
    "    * Customers who bought this item also bought that item\n",
    "    * Removing noise from data, auto encoder"
   ]
  },
  {
   "attachments": {},
   "cell_type": "markdown",
   "metadata": {},
   "source": [
    "<h3 style=\"color:#1cddbd\">Answer 10</h3>"
   ]
  },
  {
   "attachments": {},
   "cell_type": "markdown",
   "metadata": {},
   "source": [
    "Machine learning is a subfield of artificial intelligence, which is broadly defined as the capablity of a machine to imitate human behavior. Machine Learning is the science of programming computers so they can learn from data.\n",
    "1. __Deep Learning Application in Healthcare__: One type of deep learning, known as convolutional neural networks(CNNs), is particurly well-suited to analyzing images, such as MRI results or x-rays. And deep learning may soon be handy diagonstic companion in the impatient setting, where it can alert providers to changes in high-risk conditions such as sepsis and respiratory failour.\n",
    "2. __Linear Regression__: Linear regression analysis is used to predict the value of a variable based on the value of another variable. The variable we want to predict is called dependent variable. The variable we are using to predict are called independent variable. Linear regression fits a straight line that minimize the cost function."
   ]
  },
  {
   "attachments": {},
   "cell_type": "markdown",
   "metadata": {},
   "source": [
    "<h3 style=\"color:#1cddbd\">Answer 11</h3>"
   ]
  },
  {
   "attachments": {},
   "cell_type": "markdown",
   "metadata": {},
   "source": [
    "1. Generalization and abstraction\n",
    "    * __Generalization__ refers to your model's ability to adapt properly to new, previously unseen data, drawn from the same distribution as the one used to create the model.\n",
    "    * __Abstraction__ method in machine learning is used to simplify the complexity of high-dimensional datasets, or reduces the complexity by hiding low level details.\n",
    "2. Learning that is guided and unsupervised\n",
    "    * __Learning that is guided__: The learner is supervised by an expert(such as teacher) who provides guidance. The expert teaches knowledge and skills and test their understanding through evaulation.\n",
    "    * __Learning that is unsupervised__: The learner is not directly supervised by an expert but receive guidance as indirect manner. Such as student learning through recorded videos on ineuron, reading books.\n",
    "3. Regression and classification\n",
    "    * ||Classification|Regression|\n",
    "        |---|---|---|\n",
    "        |Predict|Categorical Variable|Continous Variable|\n",
    "        |Accuracy|Confusion matrix|RMSE, R-Squared|\n"
   ]
  }
 ],
 "metadata": {
  "kernelspec": {
   "display_name": "Python 3",
   "language": "python",
   "name": "python3"
  },
  "language_info": {
   "name": "python",
   "version": "3.10.2"
  },
  "orig_nbformat": 4,
  "vscode": {
   "interpreter": {
    "hash": "2469a70536e4d2335a2ea8907942d0699c37342a371ac185bdb5b0aa6f073890"
   }
  }
 },
 "nbformat": 4,
 "nbformat_minor": 2
}
